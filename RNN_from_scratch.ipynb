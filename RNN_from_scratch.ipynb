{
 "cells": [
  {
   "cell_type": "code",
   "execution_count": null,
   "source": [
    "import math\r\n",
    "import torch\r\n",
    "from torch import nn\r\n",
    "from torch.nn import functional as F\r\n",
    "from d2l import torch as d2l\r\n",
    "\r\n",
    "batch_size, num_steps = 32, 35\r\n",
    "train_iter, vocab = d2l.load_data_time_machine(batch_size, num_steps)\r\n",
    "for C in enumerate(train_iter):\r\n",
    "    print(C)"
   ],
   "outputs": [],
   "metadata": {}
  },
  {
   "cell_type": "code",
   "execution_count": null,
   "source": [
    "def get_params(vocab_size, num_hiddens, device):\r\n",
    "    num_inputs = num_outputs = vocab_size\r\n",
    "    def normal(shape):\r\n",
    "        return torch.randn(size=shape, device=device) * 0.01\r\n",
    "    # 隐藏层参数\r\n",
    "    W_xh = normal((num_inputs, num_hiddens))\r\n",
    "    W_hh = normal((num_hiddens, num_hiddens))\r\n",
    "    b_h = torch.zeros(num_hiddens, device=device)\r\n",
    "    # 输出层参数\r\n",
    "    W_hq = normal((num_hiddens, num_outputs))\r\n",
    "    b_q = torch.zeros(num_outputs, device=device)\r\n",
    "    # 附加梯度\r\n",
    "    params = [W_xh, W_hh, b_h, W_hq, b_q]\r\n",
    "    for param in params:\r\n",
    "        param.requires_grad_(True)\r\n",
    "    return params"
   ],
   "outputs": [],
   "metadata": {}
  },
  {
   "cell_type": "code",
   "execution_count": null,
   "source": [
    "def init_rnn_state(batch_size, num_hiddens, device):\r\n",
    "    return (torch.zeros((batch_size, num_hiddens), device=device),)"
   ],
   "outputs": [],
   "metadata": {}
  },
  {
   "cell_type": "code",
   "execution_count": null,
   "source": [
    "def rnn(inputs, state, params):\r\n",
    "    # `inputs`的形状： (`时间步数量`， `批量⼤⼩`， `词表⼤⼩`)\r\n",
    "    W_xh, W_hh, b_h, W_hq, b_q = params\r\n",
    "    H, = state\r\n",
    "    outputs = []\r\n",
    "    # `X`的形状： (`批量⼤⼩`， `词表⼤⼩`)\r\n",
    "    for X in inputs:\r\n",
    "        H = torch.tanh(torch.mm(X, W_xh) + torch.mm(H, W_hh) + b_h)\r\n",
    "        Y = torch.mm(H, W_hq) + b_q\r\n",
    "        outputs.append(Y)\r\n",
    "    return torch.cat(outputs, dim=0), (H,)"
   ],
   "outputs": [],
   "metadata": {}
  },
  {
   "cell_type": "code",
   "execution_count": null,
   "source": [
    "class RNNModelScratch: #@save\r\n",
    "    \"\"\"从零开始实现的循环神经⽹络模型\"\"\"\r\n",
    "    def __init__(self, vocab_size, num_hiddens, device, get_params,\r\n",
    "    init_state, forward_fn):\r\n",
    "        self.vocab_size, self.num_hiddens = vocab_size, num_hiddens\r\n",
    "        self.params = get_params(vocab_size, num_hiddens, device)\r\n",
    "        self.init_state, self.forward_fn = init_state, forward_fn\r\n",
    "    def __call__(self, X, state):\r\n",
    "        X = F.one_hot(X.T, self.vocab_size).type(torch.float32)\r\n",
    "        return self.forward_fn(X, state, self.params)\r\n",
    "    def begin_state(self, batch_size, device):\r\n",
    "        return self.init_state(batch_size, self.num_hiddens, device)"
   ],
   "outputs": [],
   "metadata": {}
  },
  {
   "cell_type": "code",
   "execution_count": null,
   "source": [
    "num_hiddens = 512\r\n",
    "net = RNNModelScratch(len(vocab), num_hiddens, d2l.try_gpu(), get_params,\r\n",
    "init_rnn_state, rnn)\r\n",
    "X = torch.arange(10).reshape((2, 5))\r\n",
    "state = net.begin_state(X.shape[0], d2l.try_gpu())\r\n",
    "Y, new_state = net(X.to(d2l.try_gpu()), state)\r\n",
    "Y.shape, len(new_state), new_state[0].shape"
   ],
   "outputs": [],
   "metadata": {}
  },
  {
   "cell_type": "code",
   "execution_count": null,
   "source": [
    "def predict_ch8(prefix, num_preds, net, vocab, device): #@save\r\n",
    "    \"\"\"在`prefix`后⾯⽣成新字符。 \"\"\"\r\n",
    "    state = net.begin_state(batch_size=1, device=device)\r\n",
    "    outputs = [vocab[prefix[0]]]\r\n",
    "    get_input = lambda: torch.tensor([outputs[-1]], device=device).reshape(\r\n",
    "    (1, 1))\r\n",
    "    for y in prefix[1:]: # 预热期\r\n",
    "        _, state = net(get_input(), state)\r\n",
    "        outputs.append(vocab[y])\r\n",
    "    for _ in range(num_preds): # 预测`num_preds`步\r\n",
    "        y, state = net(get_input(), state)\r\n",
    "        outputs.append(int(y.argmax(dim=1).reshape(1)))\r\n",
    "    return ''.join([vocab.idx_to_token[i] for i in outputs])"
   ],
   "outputs": [],
   "metadata": {}
  },
  {
   "cell_type": "code",
   "execution_count": null,
   "source": [
    "predict_ch8('time traveller ', 10, net, vocab, d2l.try_gpu())"
   ],
   "outputs": [],
   "metadata": {}
  },
  {
   "cell_type": "code",
   "execution_count": null,
   "source": [
    "def grad_clipping(net, theta): #@save\r\n",
    "    \"\"\"裁剪梯度。 \"\"\"\r\n",
    "    if isinstance(net, nn.Module):\r\n",
    "        params = [p for p in net.parameters() if p.requires_grad]\r\n",
    "    else:\r\n",
    "        params = net.params\r\n",
    "    norm = torch.sqrt(sum(torch.sum((p.grad**2)) for p in params))\r\n",
    "    if norm > theta:\r\n",
    "        for param in params:\r\n",
    "            param.grad[:] *= theta / norm"
   ],
   "outputs": [],
   "metadata": {}
  },
  {
   "cell_type": "code",
   "execution_count": null,
   "source": [
    "def train_epoch_ch8(net, train_iter, loss, updater, device, use_random_iter):\r\n",
    "    \"\"\"训练模型⼀个迭代周期（定义⻅第8章）。 \"\"\"\r\n",
    "    state, timer = None, d2l.Timer()\r\n",
    "    metric = d2l.Accumulator(2) # 训练损失之和, 词元数量\r\n",
    "    for X, Y in train_iter:\r\n",
    "        if state is None or use_random_iter:\r\n",
    "            # 在第⼀次迭代或使⽤随机抽样时初始化`state`\r\n",
    "            state = net.begin_state(batch_size=X.shape[0], device=device)\r\n",
    "        else:\r\n",
    "            if isinstance(net, nn.Module) and not isinstance(state, tuple):\r\n",
    "                # `state`对于`nn.GRU`是个张量\r\n",
    "                state.detach_()\r\n",
    "            else:\r\n",
    "                # `state`对于`nn.LSTM`或对于我们从零开始实现的模型是个张量\r\n",
    "                for s in state:\r\n",
    "                    s.detach_()\r\n",
    "        y = Y.T.reshape(-1)\r\n",
    "        X, y = X.to(device), y.to(device)\r\n",
    "        y_hat, state = net(X, state)\r\n",
    "        l = loss(y_hat, y.long()).mean()\r\n",
    "        if isinstance(updater, torch.optim.Optimizer):\r\n",
    "            updater.zero_grad()\r\n",
    "            l.backward()\r\n",
    "            grad_clipping(net, 1)\r\n",
    "            updater.step()\r\n",
    "        else:\r\n",
    "            l.backward()\r\n",
    "            grad_clipping(net, 1)\r\n",
    "            # 因为已经调⽤了`mean`函数\r\n",
    "            updater(batch_size=1)\r\n",
    "        metric.add(l * y.numel(), y.numel())\r\n",
    "    return math.exp(metric[0] / metric[1]), metric[1] / timer.stop()\r\n",
    "\r\n",
    "\r\n",
    "def train_ch8(net, train_iter, vocab, lr, num_epochs, device,\r\n",
    "    use_random_iter=False):\r\n",
    "    \"\"\"训练模型（定义⻅第8章）。 \"\"\"\r\n",
    "    loss = nn.CrossEntropyLoss()\r\n",
    "    animator = d2l.Animator(xlabel='epoch', ylabel='perplexity',\r\n",
    "                                                legend=['train'], xlim=[10, num_epochs])\r\n",
    "    # 初始化\r\n",
    "    if isinstance(net, nn.Module):\r\n",
    "        updater = torch.optim.SGD(net.parameters(), lr)\r\n",
    "    else:\r\n",
    "        updater = lambda batch_size: d2l.sgd(net.params, lr, batch_size)\r\n",
    "    predict = lambda prefix: predict_ch8(prefix, 50, net, vocab, device)\r\n",
    "    # 训练和预测\r\n",
    "    for epoch in range(num_epochs):\r\n",
    "        ppl, speed = train_epoch_ch8(net, train_iter, loss, updater, device,\r\n",
    "                                    use_random_iter)\r\n",
    "        if (epoch + 1) % 10 == 0:\r\n",
    "            print(predict('time traveller'))\r\n",
    "            animator.add(epoch + 1, [ppl])\r\n",
    "    print(f'困惑度 {ppl:.1f}, {speed:.1f} 词元/秒 {str(device)}')\r\n",
    "    print(predict('time traveller'))\r\n",
    "    print(predict('traveller'))"
   ],
   "outputs": [],
   "metadata": {}
  },
  {
   "cell_type": "code",
   "execution_count": null,
   "source": [
    "num_epochs, lr = 500, 1\r\n",
    "train_ch8(net, train_iter, vocab, lr, num_epochs, d2l.try_gpu())"
   ],
   "outputs": [],
   "metadata": {}
  }
 ],
 "metadata": {
  "orig_nbformat": 4,
  "language_info": {
   "name": "python",
   "version": "3.7.10",
   "mimetype": "text/x-python",
   "codemirror_mode": {
    "name": "ipython",
    "version": 3
   },
   "pygments_lexer": "ipython3",
   "nbconvert_exporter": "python",
   "file_extension": ".py"
  },
  "kernelspec": {
   "name": "python3",
   "display_name": "Python 3.7.10 64-bit ('pytorch': conda)"
  },
  "interpreter": {
   "hash": "be203ce0b3afc4f5c37fbac412025d7ed1d67cabe9dd00b1fc8774c6d6d19d70"
  }
 },
 "nbformat": 4,
 "nbformat_minor": 2
}