{
 "cells": [
  {
   "cell_type": "code",
   "execution_count": 1,
   "source": [
    "import collections\r\n",
    "import re\r\n",
    "from d2l import torch as d2l\r\n",
    "\r\n",
    "d2l.DATA_HUB['time_machine'] = (d2l.DATA_URL + 'timemachine.txt',\r\n",
    "                                '090b5e7e70c295757f55df93cb0a180b9691891a')\r\n",
    "def read_time_machine(): #@save\r\n",
    "    \"\"\"Load the time machine dataset into a list of text lines.\"\"\"\r\n",
    "    with open(d2l.download('time_machine'), 'r') as f:\r\n",
    "        lines = f.readlines()\r\n",
    "    return [re.sub('[^A-Za-z]+', ' ', line).strip().lower() for line in lines]\r\n",
    "\r\n",
    "lines = read_time_machine()\r\n",
    "print(f'# text lines: {len(lines)}')\r\n",
    "print(lines[0])\r\n",
    "print(lines[10])"
   ],
   "outputs": [
    {
     "output_type": "stream",
     "name": "stdout",
     "text": [
      "Downloading ..\\data\\timemachine.txt from http://d2l-data.s3-accelerate.amazonaws.com/timemachine.txt...\n",
      "# text lines: 3221\n",
      "the time machine by h g wells\n",
      "twinkled and his usually pale face was flushed and animated the\n"
     ]
    }
   ],
   "metadata": {}
  },
  {
   "cell_type": "code",
   "execution_count": 3,
   "source": [
    "def tokenize(lines, token='word'): #@save\r\n",
    "# 将⽂本⾏拆分为单词或字符词元\r\n",
    "    if token == 'word':\r\n",
    "        return [line.split() for line in lines]\r\n",
    "    elif token == 'char':\r\n",
    "        return [list(line) for line in lines]\r\n",
    "    else:\r\n",
    "        print('错误：未知令牌类型： ' + token)\r\n",
    "tokens = tokenize(lines)\r\n",
    "for i in range(11):\r\n",
    "    print(tokens[i])"
   ],
   "outputs": [
    {
     "output_type": "stream",
     "name": "stdout",
     "text": [
      "['the', 'time', 'machine', 'by', 'h', 'g', 'wells']\n",
      "[]\n",
      "[]\n",
      "[]\n",
      "[]\n",
      "['i']\n",
      "[]\n",
      "[]\n",
      "['the', 'time', 'traveller', 'for', 'so', 'it', 'will', 'be', 'convenient', 'to', 'speak', 'of', 'him']\n",
      "['was', 'expounding', 'a', 'recondite', 'matter', 'to', 'us', 'his', 'grey', 'eyes', 'shone', 'and']\n",
      "['twinkled', 'and', 'his', 'usually', 'pale', 'face', 'was', 'flushed', 'and', 'animated', 'the']\n"
     ]
    }
   ],
   "metadata": {}
  },
  {
   "cell_type": "code",
   "execution_count": 5,
   "source": [
    "class Vocab: #@save\r\n",
    "    def __init__(self, tokens=None, min_freq=0, reserved_tokens=None):\r\n",
    "        if tokens is None:\r\n",
    "            tokens = []\r\n",
    "        if reserved_tokens is None:\r\n",
    "            reserved_tokens = []\r\n",
    "        # 按出现频率排序\r\n",
    "        counter = count_corpus(tokens)\r\n",
    "        self.token_freqs = sorted(counter.items(), key=lambda x: x[1],\r\n",
    "        reverse=True)\r\n",
    "        # 未知词元的索引为0\r\n",
    "        self.unk, uniq_tokens = 0, ['<unk>'] + reserved_tokens\r\n",
    "        uniq_tokens += [\r\n",
    "            token for token, freq in self.token_freqs\r\n",
    "            if freq >= min_freq and token not in uniq_tokens]\r\n",
    "        self.idx_to_token, self.token_to_idx = [], dict()\r\n",
    "        for token in uniq_tokens:\r\n",
    "            self.idx_to_token.append(token)\r\n",
    "            self.token_to_idx[token] = len(self.idx_to_token) - 1\r\n",
    "\r\n",
    "    def __len__(self):\r\n",
    "        return len(self.idx_to_token)\r\n",
    "\r\n",
    "    def __getitem__(self, tokens):\r\n",
    "        if not isinstance(tokens, (list, tuple)):\r\n",
    "            return self.token_to_idx.get(tokens, self.unk)\r\n",
    "        return [self.__getitem__(token) for token in tokens]\r\n",
    "\r\n",
    "    def to_tokens(self, indices):\r\n",
    "        if not isinstance(indices, (list, tuple)):\r\n",
    "            return self.idx_to_token[indices]\r\n",
    "        return [self.idx_to_token[index] for index in indices]\r\n",
    "\r\n",
    "def count_corpus(tokens): #@save\r\n",
    "# 这⾥的 `tokens` 是 1D 列表或 2D 列表\r\n",
    "    if len(tokens) == 0 or isinstance(tokens[0], list):\r\n",
    "    # 将词元列表展平成使⽤词元填充的⼀个列表\r\n",
    "        tokens = [token for line in tokens for token in line]\r\n",
    "    return collections.Counter(tokens)"
   ],
   "outputs": [],
   "metadata": {}
  },
  {
   "cell_type": "code",
   "execution_count": 6,
   "source": [
    "vocab = Vocab(tokens)\r\n",
    "print(list(vocab.token_to_idx.items())[:10])"
   ],
   "outputs": [
    {
     "output_type": "stream",
     "name": "stdout",
     "text": [
      "[('<unk>', 0), ('the', 1), ('i', 2), ('and', 3), ('of', 4), ('a', 5), ('to', 6), ('was', 7), ('in', 8), ('that', 9)]\n"
     ]
    }
   ],
   "metadata": {}
  },
  {
   "cell_type": "code",
   "execution_count": 7,
   "source": [
    "for i in [0, 10]:\r\n",
    "    print('words:', tokens[i])\r\n",
    "    print('indices:', vocab[tokens[i]])"
   ],
   "outputs": [
    {
     "output_type": "stream",
     "name": "stdout",
     "text": [
      "words: ['the', 'time', 'machine', 'by', 'h', 'g', 'wells']\n",
      "indices: [1, 19, 50, 40, 2183, 2184, 400]\n",
      "words: ['twinkled', 'and', 'his', 'usually', 'pale', 'face', 'was', 'flushed', 'and', 'animated', 'the']\n",
      "indices: [2186, 3, 25, 1044, 362, 113, 7, 1421, 3, 1045, 1]\n"
     ]
    }
   ],
   "metadata": {}
  },
  {
   "cell_type": "code",
   "execution_count": 16,
   "source": [
    "def load_corpus_time_machine(max_tokens=-1): #@save\r\n",
    "    \r\n",
    "    lines = read_time_machine()\r\n",
    "    tokens = tokenize(lines, 'char')\r\n",
    "    vocab = Vocab(tokens)\r\n",
    "    # 因为时光机器数据集中的每个⽂本⾏不⼀定是⼀个句⼦或⼀个段落，\r\n",
    "    # 所以将所有⽂本⾏展平到⼀个列表中\r\n",
    "    corpus = [vocab[token] for line in tokens for token in line]\r\n",
    "    if max_tokens > 0:\r\n",
    "        corpus = corpus[:max_tokens]\r\n",
    "    return corpus, vocab\r\n",
    "corpus, vocab = load_corpus_time_machine()\r\n",
    "len(corpus), len(vocab)\r\n",
    "print(list(vocab.token_to_idx.items())[:30])"
   ],
   "outputs": [
    {
     "output_type": "stream",
     "name": "stdout",
     "text": [
      "[('<unk>', 0), (' ', 1), ('e', 2), ('t', 3), ('a', 4), ('i', 5), ('n', 6), ('o', 7), ('s', 8), ('h', 9), ('r', 10), ('d', 11), ('l', 12), ('m', 13), ('u', 14), ('c', 15), ('f', 16), ('w', 17), ('g', 18), ('y', 19), ('p', 20), ('b', 21), ('v', 22), ('k', 23), ('x', 24), ('z', 25), ('j', 26), ('q', 27)]\n"
     ]
    }
   ],
   "metadata": {}
  }
 ],
 "metadata": {
  "orig_nbformat": 4,
  "language_info": {
   "name": "python",
   "version": "3.7.10",
   "mimetype": "text/x-python",
   "codemirror_mode": {
    "name": "ipython",
    "version": 3
   },
   "pygments_lexer": "ipython3",
   "nbconvert_exporter": "python",
   "file_extension": ".py"
  },
  "kernelspec": {
   "name": "python3",
   "display_name": "Python 3.7.10 64-bit ('pytorch': conda)"
  },
  "interpreter": {
   "hash": "be203ce0b3afc4f5c37fbac412025d7ed1d67cabe9dd00b1fc8774c6d6d19d70"
  }
 },
 "nbformat": 4,
 "nbformat_minor": 2
}